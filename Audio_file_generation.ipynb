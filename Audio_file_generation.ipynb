{
  "nbformat": 4,
  "nbformat_minor": 0,
  "metadata": {
    "colab": {
      "name": "Audio file generation.ipynb",
      "provenance": [],
      "collapsed_sections": [],
      "toc_visible": true
    },
    "kernelspec": {
      "name": "python3",
      "display_name": "Python 3"
    },
    "accelerator": "GPU"
  },
  "cells": [
    {
      "cell_type": "markdown",
      "metadata": {
        "id": "FZuj_RTFGNxD",
        "colab_type": "text"
      },
      "source": [
        " **Description**\n",
        "\n",
        "\n",
        "This notebook uses Google text to speech library to convert the artist names into audio files \n",
        "These audio files are programmed to say 'Hey Siri play ...' and \"Hey Google, play...\"\n",
        "\n",
        "the files generated are then loaded into the app such that the app can play these files, and the user's Homepod or Google Home can pick up the command and execute it.\n",
        "\n",
        "\n",
        "\n"
      ]
    },
    {
      "cell_type": "code",
      "metadata": {
        "id": "8GFd_KypFB7L",
        "colab_type": "code",
        "colab": {}
      },
      "source": [
        "print(\"top 5 recommendations for user\")\n",
        "for recom in recommended_artistsIDs:\n",
        "    print(recom)"
      ],
      "execution_count": 0,
      "outputs": []
    },
    {
      "cell_type": "markdown",
      "metadata": {
        "id": "sUMVHI1_UOeQ",
        "colab_type": "text"
      },
      "source": [
        "Import Libraries"
      ]
    },
    {
      "cell_type": "code",
      "metadata": {
        "id": "Q256Sm2K0oc8",
        "colab_type": "code",
        "outputId": "5616623c-6246-49fd-f3af-6f035469a402",
        "colab": {
          "base_uri": "https://localhost:8080/",
          "height": 34
        }
      },
      "source": [
        "!pip install -q gTTS\n",
        "\n",
        "from gtts import gTTS"
      ],
      "execution_count": 0,
      "outputs": [
        {
          "output_type": "stream",
          "text": [
            "  Building wheel for gtts-token (setup.py) ... \u001b[?25l\u001b[?25hdone\n"
          ],
          "name": "stdout"
        }
      ]
    },
    {
      "cell_type": "markdown",
      "metadata": {
        "id": "P-u8qiUxUUwl",
        "colab_type": "text"
      },
      "source": [
        "Siri files"
      ]
    },
    {
      "cell_type": "code",
      "metadata": {
        "id": "_kV9eg4LqYgd",
        "colab_type": "code",
        "colab": {}
      },
      "source": [
        "speech11 = gTTS(\"hey siri, play The Beatles\")\n",
        "speech12 = gTTS(\"hey siri, play Radiohead\")\n",
        "speech13 = gTTS(\"hey siri, play The White Stripes\")\n",
        "speech14 = gTTS(\"hey siri, play Franz Ferdinand\")\n",
        "speech15 = gTTS(\"hey siri, play Pixies\")\n",
        "\n",
        "speech11.save('sbeatles.mp3')\n",
        "speech12.save('sradio.mp3')\n",
        "speech13.save('swhitestripes.mp3')\n",
        "speech14.save('sfranz.mp3')\n",
        "speech15.save('spixies.mp3')\n",
        "\n"
      ],
      "execution_count": 0,
      "outputs": []
    },
    {
      "cell_type": "markdown",
      "metadata": {
        "id": "QaRKC2OIUZCn",
        "colab_type": "text"
      },
      "source": [
        "Google Home files"
      ]
    },
    {
      "cell_type": "code",
      "metadata": {
        "id": "sxOhNpZNxpn_",
        "colab_type": "code",
        "colab": {}
      },
      "source": [
        "\n",
        "speech21 = gTTS(\"hey google, play The Beatles on spotify \")\n",
        "speech22 = gTTS(\"hey google, play Radiohead on spotify \")\n",
        "speech23 = gTTS(\"hey google, play The White Stripes on spotify \")\n",
        "speech24 = gTTS(\"hey google, play Franz Ferdinand on spotify \")\n",
        "speech25 = gTTS(\"hey google, play Pixies on spotify \")\n",
        "\n",
        "speech21.save('gbeatles.mp3')\n",
        "speech22.save('gradio.mp3')\n",
        "speech23.save('gwhitestripes.mp3')\n",
        "speech24.save('gfranz.mp3')\n",
        "speech25.save('gpixies.mp3')\n",
        "\n"
      ],
      "execution_count": 0,
      "outputs": []
    },
    {
      "cell_type": "markdown",
      "metadata": {
        "id": "dqzW0e-XUcQ3",
        "colab_type": "text"
      },
      "source": [
        "Test the files"
      ]
    },
    {
      "cell_type": "code",
      "metadata": {
        "id": "M4fPybeRqYYr",
        "colab_type": "code",
        "outputId": "6b5b8515-fe53-46ff-b1dd-16f8c24e14f8",
        "colab": {
          "base_uri": "https://localhost:8080/",
          "height": 105
        }
      },
      "source": [
        "!pip install playsound\n",
        "import playsound\n",
        "\n",
        "from IPython.display import Audio\n",
        "from scipy.io import wavfile"
      ],
      "execution_count": 0,
      "outputs": [
        {
          "output_type": "stream",
          "text": [
            "Collecting playsound\n",
            "  Downloading https://files.pythonhosted.org/packages/f5/16/10d897b0a83fb4b05b03a63d7a2667ab75f857f67f7062fd447dd3f49bf7/playsound-1.2.2-py2.py3-none-any.whl\n",
            "Installing collected packages: playsound\n",
            "Successfully installed playsound-1.2.2\n"
          ],
          "name": "stdout"
        }
      ]
    },
    {
      "cell_type": "code",
      "metadata": {
        "id": "k-deRwMFvmyr",
        "colab_type": "code",
        "outputId": "16f2b6b7-8f24-420e-e20d-5a8392f063b3",
        "colab": {
          "base_uri": "https://localhost:8080/",
          "height": 75
        }
      },
      "source": [
        "Audio('gbeatles.mp3')\n",
        "\n"
      ],
      "execution_count": 0,
      "outputs": [
        {
          "output_type": "execute_result",
          "data": {
            "text/html": [
              "\n",
              "                <audio controls=\"controls\" >\n",
              "                    <source src=\"data:audio/mpeg;base64,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\" type=\"audio/mpeg\" />\n",
              "                    Your browser does not support the audio element.\n",
              "                </audio>\n",
              "              "
            ],
            "text/plain": [
              "<IPython.lib.display.Audio object>"
            ]
          },
          "metadata": {
            "tags": []
          },
          "execution_count": 11
        }
      ]
    }
  ]
}